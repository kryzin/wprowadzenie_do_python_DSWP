{
 "cells": [
  {
   "cell_type": "markdown",
   "metadata": {},
   "source": [
    "# Zadanie 1\n",
    "Stwórz listę z wartościami od 1 do 10. Następnie podziel listę tak, aby pierwsze 5 liczb zostało w oryginalnej liście a pozostałe 5 znalazło się w nowej liście."
   ]
  },
  {
   "cell_type": "code",
   "execution_count": 1,
   "metadata": {},
   "outputs": [
    {
     "name": "stdout",
     "output_type": "stream",
     "text": [
      "[3, 4, 7, 1, 2]  oraz  [1, 1, 9, 7, 5]\n"
     ]
    }
   ],
   "source": [
    "lista = [3,4,7,1,2,1,1,9,7,5]\n",
    "lista2 = lista[5::]\n",
    "lista = lista[0:5:]\n",
    "print(lista, \" oraz \", lista2)"
   ]
  },
  {
   "cell_type": "markdown",
   "metadata": {},
   "source": [
    "# Zadanie 2\n",
    "Połącz te listy ponownie. Dodaj do listy wartość „0” na początku. Utwórz kopię połączonej listy i wyświetl listę posortowaną malejąco."
   ]
  },
  {
   "cell_type": "code",
   "execution_count": 2,
   "metadata": {},
   "outputs": [
    {
     "name": "stdout",
     "output_type": "stream",
     "text": [
      "[0, 3, 4, 7, 1, 2, 1, 1, 9, 7, 5]  oraz  [9, 7, 7, 5, 4, 3, 2, 1, 1, 1, 0]\n"
     ]
    }
   ],
   "source": [
    "lista3 = lista + lista2\n",
    "lista3.insert(0, 0)\n",
    "lista4 = lista3.copy()\n",
    "lista4.sort(reverse=True)\n",
    "print(lista3, ' oraz ', lista4)"
   ]
  },
  {
   "cell_type": "markdown",
   "metadata": {},
   "source": [
    "# Zadanie 3\n",
    "Napisz skrypt, który pobierze dowolny tekst ze standardowego wejścia poprzez funckję `input()`. Następnie wyświetl ciąg unikalnych znaków z wczytanego zdania, zapisanych alfabetycznie małymi literami."
   ]
  },
  {
   "cell_type": "code",
   "execution_count": 3,
   "metadata": {},
   "outputs": [
    {
     "data": {
      "text/plain": [
       "[' ', 'a', 'b', 'i', 'k', 'k', 'l', 'n', 'o', 'r', 't', 'u', 'y']"
      ]
     },
     "execution_count": 3,
     "metadata": {},
     "output_type": "execute_result"
    }
   ],
   "source": [
    "dane = input(\"podaj teskt: \\n\") # Karolina lubi Koty\n",
    "lista_uni = []\n",
    "\n",
    "for e in dane:\n",
    "    if lista_uni.__contains__(e) == False:\n",
    "        e = e.lower()\n",
    "        lista_uni.append(e)\n",
    "\n",
    "lista_uni.sort()\n",
    "lista_uni"
   ]
  },
  {
   "cell_type": "markdown",
   "metadata": {},
   "source": [
    "# Zadanie 4\n",
    "Stwórz słownik gdzie kluczami będą numery miesięcy (rozpoczynając od 1) a wartościami nazwy polskich miesięcy."
   ]
  },
  {
   "cell_type": "code",
   "execution_count": 22,
   "metadata": {},
   "outputs": [
    {
     "data": {
      "text/plain": [
       "{1: 'Styczeń',\n",
       " 2: 'Luty',\n",
       " 3: 'Marzec',\n",
       " 4: 'Kwiecień',\n",
       " 5: 'Maj',\n",
       " 6: 'Czerwiec',\n",
       " 7: 'Lipiec',\n",
       " 8: 'Sierpień',\n",
       " 9: 'Wrzesień',\n",
       " 10: 'Październik',\n",
       " 11: 'Listopad',\n",
       " 12: 'Grudzień'}"
      ]
     },
     "execution_count": 22,
     "metadata": {},
     "output_type": "execute_result"
    }
   ],
   "source": [
    "month_dict_pl = {1: 'Styczeń', 2: 'Luty', 3: 'Marzec',\n",
    "              4: 'Kwiecień', 5: 'Maj', 6: 'Czerwiec',\n",
    "              7: 'Lipiec', 8: 'Sierpień', 9: 'Wrzesień',\n",
    "              10: 'Październik', 11: 'Listopad', 12: 'Grudzień'}\n",
    "\n",
    "month_dict_pl"
   ]
  },
  {
   "cell_type": "markdown",
   "metadata": {},
   "source": [
    "# Zadanie 5\n",
    "Stwórz podobny słownik jak w zadaniu 1, ale z angielskimi nazwami miesięcy. Połącz teraz słowniki tak, żeby przykładowo dla kwietnia, dostać się poprzez wyrażenie: months['pl'][4] a dla wersji angielskiej poprzez months['en'][4]."
   ]
  },
  {
   "cell_type": "code",
   "execution_count": 23,
   "metadata": {},
   "outputs": [
    {
     "data": {
      "text/plain": [
       "{1: 'January',\n",
       " 2: 'February',\n",
       " 3: 'March',\n",
       " 4: 'April',\n",
       " 5: 'May',\n",
       " 6: 'June',\n",
       " 7: 'July',\n",
       " 8: 'August',\n",
       " 9: 'September',\n",
       " 10: 'October',\n",
       " 11: 'November',\n",
       " 12: 'December'}"
      ]
     },
     "execution_count": 23,
     "metadata": {},
     "output_type": "execute_result"
    }
   ],
   "source": [
    "import datetime\n",
    "\n",
    "month_dict_en = {}\n",
    "for i in range(1,13):\n",
    "    month_dict_en[i] = datetime.date(1900, i, 1).strftime(\"%B\")\n",
    "\n",
    "month_dict_en"
   ]
  },
  {
   "cell_type": "code",
   "execution_count": 26,
   "metadata": {},
   "outputs": [
    {
     "name": "stdout",
     "output_type": "stream",
     "text": [
      "Kwiecień  oraz  April\n"
     ]
    }
   ],
   "source": [
    "months = {'pl': month_dict_pl, 'en': month_dict_en}\n",
    "\n",
    "print(months['pl'][4], \" oraz \", months['en'][4])"
   ]
  },
  {
   "cell_type": "markdown",
   "metadata": {},
   "source": [
    "# Zadanie 6\n",
    "Wykorzystując ciąg tekstowy 'Marianna' oraz metodę `fromkeys()` dla słowników stwórz słownik, który będzie zawierał jako klucze unikalne litery w/w imienia a jako wartość każdy klucz będzie miał przypisaną wartość 1. Poprawne wyjście: `{'M': 1, 'a': 1, 'r': 1, 'i': 1, 'n': 1}` Czy można w funkcji `feommkeys()` użyć dynamicznie podawanej wartości dla każdego klucza słownika?"
   ]
  },
  {
   "cell_type": "code",
   "execution_count": 44,
   "metadata": {},
   "outputs": [
    {
     "data": {
      "text/plain": [
       "{'M': 1, 'a': 1, 'r': 1, 'i': 1, 'n': 1}"
      ]
     },
     "execution_count": 44,
     "metadata": {},
     "output_type": "execute_result"
    }
   ],
   "source": [
    "string = 'Marianna'\n",
    "keys = []\n",
    "value = 1\n",
    "\n",
    "for e in string:\n",
    "    if keys.__contains__(e) == False:\n",
    "        keys.append(e)\n",
    "\n",
    "new_dict = dict.fromkeys(keys, value)\n",
    "new_dict"
   ]
  },
  {
   "cell_type": "markdown",
   "metadata": {},
   "source": [
    "# Zadanie 7\n",
    "Wykorzystaj moduł string i następnie:\n",
    "\n",
    "wczytaj ze standardowego wejścia dowolny łańcuch znaków,\n",
    "używając formatowania łańcuchów (f-string) wyświetl ileznaków oraz jaki % tych znaków (zamienionych na małe litery) z wprowadzonego tekstu pokrywa się z: `string.ascii_lowercase` , `string.digits`."
   ]
  },
  {
   "cell_type": "code",
   "execution_count": 4,
   "metadata": {},
   "outputs": [
    {
     "name": "stdout",
     "output_type": "stream",
     "text": [
      "Tekst zawiera 27 znaków.\n",
      "51.85% znaków pokrywa się z ascii lowercase\n",
      "7.41% znaków pokrywa się z digits\n"
     ]
    }
   ],
   "source": [
    "import string\n",
    "\n",
    "text = input() # 'Nowy super tekst za 100 lat'\n",
    "\n",
    "lowercase_set = set(string.ascii_lowercase)\n",
    "digits_set = set(string.digits)\n",
    "\n",
    "text = text.lower()\n",
    "\n",
    "count_lower = set(text) & lowercase_set\n",
    "count_digits = set(text) & digits_set\n",
    "\n",
    "prc_lower = len(count_lower) / len(text) * 100\n",
    "prc_digits = len(count_digits) / len(text) * 100\n",
    "\n",
    "print(f\"Tekst zawiera {len(text)} znaków.\")\n",
    "print(f\"{prc_lower:.2f}% znaków pokrywa się z ascii lowercase\")\n",
    "print(f\"{prc_digits:.2f}% znaków pokrywa się z digits\")\n"
   ]
  }
 ],
 "metadata": {
  "kernelspec": {
   "display_name": "venv",
   "language": "python",
   "name": "python3"
  },
  "language_info": {
   "codemirror_mode": {
    "name": "ipython",
    "version": 3
   },
   "file_extension": ".py",
   "mimetype": "text/x-python",
   "name": "python",
   "nbconvert_exporter": "python",
   "pygments_lexer": "ipython3",
   "version": "3.11.8"
  }
 },
 "nbformat": 4,
 "nbformat_minor": 2
}
