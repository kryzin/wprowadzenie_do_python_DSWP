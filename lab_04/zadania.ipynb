{
 "cells": [
  {
   "cell_type": "markdown",
   "metadata": {},
   "source": [
    "# Zadanie 1\n",
    "Napisz pętlę, która wyświetla liczby podzielne przez 5 z zakresu [0,50]."
   ]
  },
  {
   "cell_type": "code",
   "execution_count": 2,
   "metadata": {},
   "outputs": [
    {
     "name": "stdout",
     "output_type": "stream",
     "text": [
      "0, 5, 10, 15, 20, 25, 30, 35, 40, 45, 50, "
     ]
    }
   ],
   "source": [
    "for i in range(0, 51, 5):\n",
    "    print(i, end=', ')"
   ]
  },
  {
   "cell_type": "markdown",
   "metadata": {},
   "source": [
    "\n",
    "# Zadanie 2\n",
    "Napisz skrypt, który rysuje diament. Użytkownik podaje wysokość nie mniej jak 3 i nie więcej jak 9, ale tylko nieparzysta wysokość.\n",
    "Przykład wyjścia dla wysokosc = 3\n",
    "\n",
    "```\n",
    " o\n",
    "ooo\n",
    " o\n",
    "```\n",
    "\n",
    "oraz wysokosc = 5\n",
    "\n",
    "```\n",
    "  o\n",
    " ooo\n",
    "ooooo\n",
    " ooo\n",
    "  o\n",
    "```\n",
    "\n",
    "itd."
   ]
  },
  {
   "cell_type": "code",
   "execution_count": 10,
   "metadata": {},
   "outputs": [
    {
     "name": "stdout",
     "output_type": "stream",
     "text": [
      "   o\n",
      "  ooo\n",
      " ooooo\n",
      "ooooooo\n",
      " ooooo\n",
      "  ooo\n",
      "   o\n"
     ]
    }
   ],
   "source": [
    "def diament(h):\n",
    "    if h % 2 == 0 or h < 3 or h > 9:\n",
    "        print(\"Wysokość musi być nieparzysta i od 3 do 9\")\n",
    "        return\n",
    "\n",
    "    for i in range(1, h, 2):\n",
    "        print(\" \" * ((h - i) // 2) + \"o\" * i)\n",
    "\n",
    "    print(\"o\" * h)\n",
    "\n",
    "    for i in range(h - 2, 0, -2):\n",
    "        print(\" \" * ((h - i) // 2) + \"o\" * i)\n",
    "\n",
    "h = int(input(\"Podaj wysokość diamentu: \"))\n",
    "diament(h)"
   ]
  },
  {
   "cell_type": "markdown",
   "metadata": {},
   "source": [
    "# Zadanie 3\n",
    "Napisz skrypt, który wyświetla i oblicza tabliczkę mnożenia od 1 do 100 w formie tabeli, z wyrównaniem liczb do strony prawej, nagłówkiem kolumn i wierszy."
   ]
  },
  {
   "cell_type": "code",
   "execution_count": 13,
   "metadata": {},
   "outputs": [
    {
     "name": "stdout",
     "output_type": "stream",
     "text": [
      "         1    2    3    4    5    6    7    8    9   10\n",
      "-------------------------------------------------------\n",
      "    1|    1    2    3    4    5    6    7    8    9   10\n",
      "    2|    2    4    6    8   10   12   14   16   18   20\n",
      "    3|    3    6    9   12   15   18   21   24   27   30\n",
      "    4|    4    8   12   16   20   24   28   32   36   40\n",
      "    5|    5   10   15   20   25   30   35   40   45   50\n",
      "    6|    6   12   18   24   30   36   42   48   54   60\n",
      "    7|    7   14   21   28   35   42   49   56   63   70\n",
      "    8|    8   16   24   32   40   48   56   64   72   80\n",
      "    9|    9   18   27   36   45   54   63   72   81   90\n",
      "   10|   10   20   30   40   50   60   70   80   90  100\n"
     ]
    }
   ],
   "source": [
    "# nazwy kolumn -> (for each) nazwa wiersza + tablicza po kolumnach\n",
    "print(f\"{'':>5}\", end=\"\")\n",
    "for i in range(1, 11):\n",
    "    print(f\"{i:>5}\", end=\"\")\n",
    "print(\"\\n\" + \"-\" * 55)\n",
    "\n",
    "for i in range(1, 11):\n",
    "    print(f\"{i:>5}\", end=\"|\")\n",
    "    for j in range(1, 11):\n",
    "        print(f\"{i * j:>5}\", end=\"\")\n",
    "    print() #new line"
   ]
  },
  {
   "cell_type": "markdown",
   "metadata": {},
   "source": [
    "# Zadanie 4\n",
    "Pobieraj z klawiatury wartość w postaci liczby całkowitej, a następnie wyświetl ją w postaci liczby binarnej, ósemkowej i szesnastkowej."
   ]
  },
  {
   "cell_type": "code",
   "execution_count": 14,
   "metadata": {},
   "outputs": [
    {
     "name": "stdout",
     "output_type": "stream",
     "text": [
      "Postać binarna: 0b101011001\n",
      "Postać ósemkowa: 0o531\n",
      "Postać szesnastkowa: 0x159\n"
     ]
    }
   ],
   "source": [
    "def formatuj(liczba):\n",
    "    print(\"Postać binarna:\", bin(liczba))\n",
    "    print(\"Postać ósemkowa:\", oct(liczba))\n",
    "    print(\"Postać szesnastkowa:\", hex(liczba))\n",
    "\n",
    "liczba = int(input(\"Podaj liczbę całkowitą: \")) #345\n",
    "formatuj(liczba)"
   ]
  },
  {
   "cell_type": "markdown",
   "metadata": {},
   "source": [
    "# Zadanie 5\n",
    "Napisz skrypt, który pobiera od użytkownika wartość i:\n",
    "\n",
    "sprawdzaj czy podana wartość jest rzutowalna na typ int i float i wyświetl stosowne komunikaty."
   ]
  },
  {
   "cell_type": "code",
   "execution_count": 15,
   "metadata": {},
   "outputs": [
    {
     "name": "stdout",
     "output_type": "stream",
     "text": [
      "3.567 nie można rzutować na typ int.\n",
      "3.567 można rzutować na typ float.\n"
     ]
    }
   ],
   "source": [
    "def sprawdzaj(x):\n",
    "    try:\n",
    "        l_int = int(x)\n",
    "        print(f\"{x} można rzutować na typ int.\")\n",
    "    except ValueError:\n",
    "        print(f\"{x} nie można rzutować na typ int.\")\n",
    "\n",
    "    try:\n",
    "        wartosc_float = float(x)\n",
    "        print(f\"{x} można rzutować na typ float.\")\n",
    "    except ValueError:\n",
    "        print(f\"{x} nie można rzutować na typ float.\")\n",
    "\n",
    "x = input(\"Podaj wartość: \")\n",
    "sprawdzaj(x)"
   ]
  },
  {
   "cell_type": "markdown",
   "metadata": {},
   "source": [
    "# Zadanie 6\n",
    "Napisz skrypt, który pobiera od użytkownika wartość liczbową, a następnie wyświetla na konsoli zdanie w postaci: \"Podaną liczbę można zapisać jako: ...\", gdzie zapis będzie w postaci sumy iloczynów liczb dla każdego rzędu. Np. liczba 123: \"Podaną liczbę można zapisać jako: 100 * 1 + 10 * 2 + 1 * 3\". Do pobrania i wypisania wartości użyj odpowiednio instrukcji readline() i write() z modułu sys)."
   ]
  },
  {
   "cell_type": "code",
   "execution_count": 22,
   "metadata": {},
   "outputs": [],
   "source": [
    "import sys\n",
    "\n",
    "def sumuj(liczba):\n",
    "    str_liczba = str(liczba)\n",
    "    n = len(str_liczba)\n",
    "\n",
    "    iloczyny = [f\"{int(str_liczba[i])} * {10 ** (n - i - 1)}\" for i in range(n)]\n",
    "\n",
    "    suma = \" + \".join(iloczyny)\n",
    "    return suma\n",
    "\n",
    "# w .ipynb nie ma interaktywności tutaj - plik .py do tego zadania\n",
    "# x = sys.stdin.readline().strip()\n",
    "x = input()\n",
    "x = int(x)\n",
    "suma = sumuj(x)\n",
    "sys.stdout.write(f\"Podaną liczbę {x} można zapisać jako: {suma}\\n\")"
   ]
  },
  {
   "attachments": {
    "image.png": {
     "image/png": "[encoded data removed]"
    }
   },
   "cell_type": "markdown",
   "metadata": {},
   "source": [
    "![image.png](attachment:image.png)"
   ]
  },
  {
   "cell_type": "markdown",
   "metadata": {},
   "source": [
    "# Zadanie 7\n",
    "Wykorzystaj moduł this (sprawdź jego kod źródłowy) i korzystając z umieszczonego tam słownika kodującego (sprawdź dostępne zmienne modułu this) napisz skrypt, który będzie kodował tym słownikiem wpisywane zdanie (przechwytuj z klawiatury). Wypisuj na konsoli zakodowane zdanie."
   ]
  },
  {
   "cell_type": "code",
   "execution_count": 14,
   "metadata": {},
   "outputs": [
    {
     "name": "stdout",
     "output_type": "stream",
     "text": [
      "Zakodowane zdanie: Gra grxfg avr zn manpmravn\n"
     ]
    }
   ],
   "source": [
    "# # import this\n",
    "import codecs\n",
    "# # print(codecs.decode(this.s, 'rot-13'))\n",
    "\n",
    "# encoded = codecs.encode(\"Co się dzieje\", 'rot_13')\n",
    "# print(encoded)\n",
    "# decoded = codecs.decode(encoded, 'rot-13')\n",
    "# print(decoded)\n",
    "\n",
    "import this\n",
    "\n",
    "def encode_sentence(sentence, encoder):\n",
    "    encoded_sentence = \"\"\n",
    "    for char in sentence:\n",
    "        encoded_char = encoder.get(char, char)\n",
    "        encoded_sentence += encoded_char\n",
    "    return encoded_sentence\n",
    "\n",
    "sentence = input(\"Podaj zdanie do zakodowania: \")\n",
    "\n",
    "encoded_sentence = encode_sentence(sentence, this.d)\n",
    "print(\"Zakodowane zdanie:\", encoded_sentence)\n"
   ]
  },
  {
   "cell_type": "markdown",
   "metadata": {},
   "source": [
    "# Zadanie 8\n",
    "Napisz skrypt, który pobiera z klawiatury zdanie, a na konsoli wyświetla wyrazy z tego zdania posortowane według ich długości rosnąco."
   ]
  },
  {
   "cell_type": "code",
   "execution_count": 15,
   "metadata": {},
   "outputs": [
    {
     "name": "stdout",
     "output_type": "stream",
     "text": [
      "Wyrazy z podanego zdania posortowane według długości:\n",
      "tak\n",
      "co?\n",
      "maja\n",
      "lata\n",
      "Czemu\n",
      "ciągle\n"
     ]
    }
   ],
   "source": [
    "def sortuj(zdanie):\n",
    "    wyrazy = zdanie.split()\n",
    "    wyrazy.sort(key=lambda x: len(x))\n",
    "    return wyrazy\n",
    "\n",
    "zdanie = input(\"Podaj zdanie: \")\n",
    "\n",
    "print(\"Wyrazy z podanego zdania posortowane według długości:\")\n",
    "posortowane_wyrazy = sortuj(zdanie)\n",
    "for wyraz in posortowane_wyrazy:\n",
    "    print(wyraz)\n"
   ]
  },
  {
   "cell_type": "markdown",
   "metadata": {},
   "source": [
    "# Zadanie 9\n",
    "Napisz skrypt, który z tabeli dostępnej pod adresem http://prawolaffera.pl/uniwersalny-kod-przemowien/ (dane należy zaszyć w skrypcie na stałe) będzie generował n zdań na konsolę. Ilość zdań podawana jest przez użytkownika z klawiatury."
   ]
  },
  {
   "cell_type": "code",
   "execution_count": 19,
   "metadata": {},
   "outputs": [
    {
     "name": "stdout",
     "output_type": "stream",
     "text": [
      "Uniwersalne przemówienie:\n",
      "W ten oto sposób konsultacja z szerokim aktywem umożliwia w większym stopniu tworzenie istniejących warunków administracyjno-finansowych.dalszych kierunków rozwoju.systemu powszechnego uczestnictwa.postaw uczestników wobec zadań stawianych przez organizację.nowych propozycji.kierunków postępowego wychowania.systemu szkolenia kadry odpowiadającego potrzebom.odpowiednich warunków aktywizacji.modelu rozwoju.form oddziaływania.\n",
      "Różnorakie i bogate doświadczenia dalszy rozwój różnych form działalności pomaga w przygotowaniu i realizacji istniejących warunków administracyjno-finansowych.dalszych kierunków rozwoju.systemu powszechnego uczestnictwa.postaw uczestników wobec zadań stawianych przez organizację.nowych propozycji.kierunków postępowego wychowania.systemu szkolenia kadry odpowiadającego potrzebom.odpowiednich warunków aktywizacji.modelu rozwoju.form oddziaływania.\n",
      "Podobnie konsultacja z szerokim aktywem spełnia ważne zadania w wypracowaniu istniejących warunków administracyjno-finansowych.dalszych kierunków rozwoju.systemu powszechnego uczestnictwa.postaw uczestników wobec zadań stawianych przez organizację.nowych propozycji.kierunków postępowego wychowania.systemu szkolenia kadry odpowiadającego potrzebom.odpowiednich warunków aktywizacji.modelu rozwoju.form oddziaływania.\n"
     ]
    }
   ],
   "source": [
    "import random\n",
    "\n",
    "t1 = [\n",
    "    \"Koleżanki i koledzy\",\n",
    "    \"Z drugiej strony\",\n",
    "    \"Podobnie\",\n",
    "    \"Nie zapominajmy jednak, że\",\n",
    "    \"W ten oto sposób\",\n",
    "    \"Praktyka dnia codziennego dowodzi, że\",\n",
    "    \"Wagi i znaczenia tych problemów nie trzeba szerzej uzasadniać, ponieważ\",\n",
    "    \"Różnorakie i bogate doświadczenia\",\n",
    "    \"Troska organizacji, a szczególnie\",\n",
    "    \"Wyższe założenia ideowe, a także\"\n",
    "]\n",
    "t2 = [\n",
    "    \"realizacja nakreślonych zadań programowych\",\n",
    "    \"zakres i miejsce szkolenia kadr\",\n",
    "    \"stały wzrost ilości i zakres naszej aktywności\",\n",
    "    \"aktualna struktura organizacji\",\n",
    "    \"nowy model działalności organizacyjnej\",\n",
    "    \"dalszy rozwój różnych form działalności\",\n",
    "    \"stałe zabezpieczenie informacyjno programowe naszej działalności\",\n",
    "    \"wzmacnianie i rozwijanie struktur\",\n",
    "    \"konsultacja z szerokim aktywem\",\n",
    "    \"rozpoczęcie powszechnej akcji kształtowania postaw\",\n",
    "]\n",
    "t3 = [\n",
    "    \"zmusza nas do przeanalizowania\",\n",
    "    \"spełnia istotną rolę w kształtowaniu\",\n",
    "    \"wymaga sprecyzowania i określenia\",\n",
    "    \"pomaga w przygotowaniu i realizacji\",\n",
    "    \"zabezpiecza udział szerokiej grupie w kształtowaniu\",\n",
    "    \"spełnia ważne zadania w wypracowaniu\",\n",
    "    \"umożliwia w większym stopniu tworzenie\",\n",
    "    \"powoduje docenianie wagi\",\n",
    "    \"przedstawia interesującą próbę sprawdzenia\",\n",
    "    \"pociąga za sobą proces wdrażania i unowocześniania\",\n",
    "]\n",
    "t4 = [\n",
    "    \"istniejących warunków administracyjno-finansowych.\"\n",
    "    \"dalszych kierunków rozwoju.\"\n",
    "    \"systemu powszechnego uczestnictwa.\"\n",
    "    \"postaw uczestników wobec zadań stawianych przez organizację.\"\n",
    "    \"nowych propozycji.\"\n",
    "    \"kierunków postępowego wychowania.\"\n",
    "    \"systemu szkolenia kadry odpowiadającego potrzebom.\"\n",
    "    \"odpowiednich warunków aktywizacji.\"\n",
    "    \"modelu rozwoju.\"\n",
    "    \"form oddziaływania.\"\n",
    "]\n",
    "\n",
    "def generuj_zdanie():\n",
    "    zdanie = [\n",
    "        random.choice(t1),\n",
    "        random.choice(t2),\n",
    "        random.choice(t3),\n",
    "        random.choice(t4)\n",
    "    ]\n",
    "    return ' '.join(zdanie)\n",
    "\n",
    "ilosc_zdan = int(input(\"Podaj ilość zdań w przemówieniu: \"))\n",
    "\n",
    "print(\"Uniwersalne przemówienie:\")\n",
    "for _ in range(ilosc_zdan):\n",
    "    print(generuj_zdanie())\n"
   ]
  },
  {
   "cell_type": "code",
   "execution_count": null,
   "metadata": {},
   "outputs": [],
   "source": []
  }
 ],
 "metadata": {
  "kernelspec": {
   "display_name": "venv",
   "language": "python",
   "name": "python3"
  },
  "language_info": {
   "codemirror_mode": {
    "name": "ipython",
    "version": 3
   },
   "file_extension": ".py",
   "mimetype": "text/x-python",
   "name": "python",
   "nbconvert_exporter": "python",
   "pygments_lexer": "ipython3",
   "version": "3.11.8"
  }
 },
 "nbformat": 4,
 "nbformat_minor": 2
}
